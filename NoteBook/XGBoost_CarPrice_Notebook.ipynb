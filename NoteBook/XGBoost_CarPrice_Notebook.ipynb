{
 "cells": [
  {
   "cell_type": "markdown",
   "id": "3d0ab511bedbf096",
   "metadata": {},
   "source": [
    "# Used Car Price Prediction\n",
    "## 1) Problem statement.\n",
    "- This dataset comprises used cars sold on cardehko.com in India as well as important features of these cars.\n",
    "- If user can predict the price of the car based on input features.\n",
    "- Prediction results can be used to give new seller the price suggestion based on market condition.\n",
    "\n",
    "## 2) Data Collection.\n",
    "- The Dataset is collected from scrapping from cardheko webiste\n",
    "- The data consists of 13 column and 15411 rows."
   ]
  },
  {
   "cell_type": "code",
   "id": "initial_id",
   "metadata": {
    "collapsed": true,
    "ExecuteTime": {
     "end_time": "2025-08-27T13:21:28.470531Z",
     "start_time": "2025-08-27T13:21:28.326304Z"
    }
   },
   "source": [
    "import pandas as pd\n",
    "import numpy as np\n",
    "import matplotlib.pyplot as plt\n",
    "import seaborn as sns\n",
    "import plotly.express as px\n",
    "import warnings\n",
    "\n",
    "warnings.filterwarnings(\"ignore\")\n",
    "\n",
    "%matplotlib inline"
   ],
   "outputs": [],
   "execution_count": 2
  },
  {
   "cell_type": "code",
   "id": "d3c34ca631aa225e",
   "metadata": {
    "ExecuteTime": {
     "end_time": "2025-08-27T13:21:28.511498Z",
     "start_time": "2025-08-27T13:21:28.476465Z"
    }
   },
   "source": "df = pd.read_csv(r\"../data/cardekho_imputated.csv\", index_col=[0])\n",
   "outputs": [],
   "execution_count": 3
  },
  {
   "cell_type": "code",
   "id": "28c5fb1824495ae5",
   "metadata": {
    "ExecuteTime": {
     "end_time": "2025-08-27T13:21:28.536193Z",
     "start_time": "2025-08-27T13:21:28.520837Z"
    }
   },
   "source": [
    "df"
   ],
   "outputs": [
    {
     "data": {
      "text/plain": [
       "              car_name     brand     model  vehicle_age  km_driven  \\\n",
       "0          Maruti Alto    Maruti      Alto            9     120000   \n",
       "1        Hyundai Grand   Hyundai     Grand            5      20000   \n",
       "2          Hyundai i20   Hyundai       i20           11      60000   \n",
       "3          Maruti Alto    Maruti      Alto            9      37000   \n",
       "4        Ford Ecosport      Ford  Ecosport            6      30000   \n",
       "...                ...       ...       ...          ...        ...   \n",
       "19537      Hyundai i10   Hyundai       i10            9      10723   \n",
       "19540    Maruti Ertiga    Maruti    Ertiga            2      18000   \n",
       "19541      Skoda Rapid     Skoda     Rapid            6      67000   \n",
       "19542  Mahindra XUV500  Mahindra    XUV500            5    3800000   \n",
       "19543       Honda City     Honda      City            2      13000   \n",
       "\n",
       "      seller_type fuel_type transmission_type  mileage  engine  max_power  \\\n",
       "0      Individual    Petrol            Manual    19.70     796      46.30   \n",
       "1      Individual    Petrol            Manual    18.90    1197      82.00   \n",
       "2      Individual    Petrol            Manual    17.00    1197      80.00   \n",
       "3      Individual    Petrol            Manual    20.92     998      67.10   \n",
       "4          Dealer    Diesel            Manual    22.77    1498      98.59   \n",
       "...           ...       ...               ...      ...     ...        ...   \n",
       "19537      Dealer    Petrol            Manual    19.81    1086      68.05   \n",
       "19540      Dealer    Petrol            Manual    17.50    1373      91.10   \n",
       "19541      Dealer    Diesel            Manual    21.14    1498     103.52   \n",
       "19542      Dealer    Diesel            Manual    16.00    2179     140.00   \n",
       "19543      Dealer    Petrol         Automatic    18.00    1497     117.60   \n",
       "\n",
       "       seats  selling_price  \n",
       "0          5         120000  \n",
       "1          5         550000  \n",
       "2          5         215000  \n",
       "3          5         226000  \n",
       "4          5         570000  \n",
       "...      ...            ...  \n",
       "19537      5         250000  \n",
       "19540      7         925000  \n",
       "19541      5         425000  \n",
       "19542      7        1225000  \n",
       "19543      5        1200000  \n",
       "\n",
       "[15411 rows x 13 columns]"
      ],
      "text/html": [
       "<div>\n",
       "<style scoped>\n",
       "    .dataframe tbody tr th:only-of-type {\n",
       "        vertical-align: middle;\n",
       "    }\n",
       "\n",
       "    .dataframe tbody tr th {\n",
       "        vertical-align: top;\n",
       "    }\n",
       "\n",
       "    .dataframe thead th {\n",
       "        text-align: right;\n",
       "    }\n",
       "</style>\n",
       "<table border=\"1\" class=\"dataframe\">\n",
       "  <thead>\n",
       "    <tr style=\"text-align: right;\">\n",
       "      <th></th>\n",
       "      <th>car_name</th>\n",
       "      <th>brand</th>\n",
       "      <th>model</th>\n",
       "      <th>vehicle_age</th>\n",
       "      <th>km_driven</th>\n",
       "      <th>seller_type</th>\n",
       "      <th>fuel_type</th>\n",
       "      <th>transmission_type</th>\n",
       "      <th>mileage</th>\n",
       "      <th>engine</th>\n",
       "      <th>max_power</th>\n",
       "      <th>seats</th>\n",
       "      <th>selling_price</th>\n",
       "    </tr>\n",
       "  </thead>\n",
       "  <tbody>\n",
       "    <tr>\n",
       "      <th>0</th>\n",
       "      <td>Maruti Alto</td>\n",
       "      <td>Maruti</td>\n",
       "      <td>Alto</td>\n",
       "      <td>9</td>\n",
       "      <td>120000</td>\n",
       "      <td>Individual</td>\n",
       "      <td>Petrol</td>\n",
       "      <td>Manual</td>\n",
       "      <td>19.70</td>\n",
       "      <td>796</td>\n",
       "      <td>46.30</td>\n",
       "      <td>5</td>\n",
       "      <td>120000</td>\n",
       "    </tr>\n",
       "    <tr>\n",
       "      <th>1</th>\n",
       "      <td>Hyundai Grand</td>\n",
       "      <td>Hyundai</td>\n",
       "      <td>Grand</td>\n",
       "      <td>5</td>\n",
       "      <td>20000</td>\n",
       "      <td>Individual</td>\n",
       "      <td>Petrol</td>\n",
       "      <td>Manual</td>\n",
       "      <td>18.90</td>\n",
       "      <td>1197</td>\n",
       "      <td>82.00</td>\n",
       "      <td>5</td>\n",
       "      <td>550000</td>\n",
       "    </tr>\n",
       "    <tr>\n",
       "      <th>2</th>\n",
       "      <td>Hyundai i20</td>\n",
       "      <td>Hyundai</td>\n",
       "      <td>i20</td>\n",
       "      <td>11</td>\n",
       "      <td>60000</td>\n",
       "      <td>Individual</td>\n",
       "      <td>Petrol</td>\n",
       "      <td>Manual</td>\n",
       "      <td>17.00</td>\n",
       "      <td>1197</td>\n",
       "      <td>80.00</td>\n",
       "      <td>5</td>\n",
       "      <td>215000</td>\n",
       "    </tr>\n",
       "    <tr>\n",
       "      <th>3</th>\n",
       "      <td>Maruti Alto</td>\n",
       "      <td>Maruti</td>\n",
       "      <td>Alto</td>\n",
       "      <td>9</td>\n",
       "      <td>37000</td>\n",
       "      <td>Individual</td>\n",
       "      <td>Petrol</td>\n",
       "      <td>Manual</td>\n",
       "      <td>20.92</td>\n",
       "      <td>998</td>\n",
       "      <td>67.10</td>\n",
       "      <td>5</td>\n",
       "      <td>226000</td>\n",
       "    </tr>\n",
       "    <tr>\n",
       "      <th>4</th>\n",
       "      <td>Ford Ecosport</td>\n",
       "      <td>Ford</td>\n",
       "      <td>Ecosport</td>\n",
       "      <td>6</td>\n",
       "      <td>30000</td>\n",
       "      <td>Dealer</td>\n",
       "      <td>Diesel</td>\n",
       "      <td>Manual</td>\n",
       "      <td>22.77</td>\n",
       "      <td>1498</td>\n",
       "      <td>98.59</td>\n",
       "      <td>5</td>\n",
       "      <td>570000</td>\n",
       "    </tr>\n",
       "    <tr>\n",
       "      <th>...</th>\n",
       "      <td>...</td>\n",
       "      <td>...</td>\n",
       "      <td>...</td>\n",
       "      <td>...</td>\n",
       "      <td>...</td>\n",
       "      <td>...</td>\n",
       "      <td>...</td>\n",
       "      <td>...</td>\n",
       "      <td>...</td>\n",
       "      <td>...</td>\n",
       "      <td>...</td>\n",
       "      <td>...</td>\n",
       "      <td>...</td>\n",
       "    </tr>\n",
       "    <tr>\n",
       "      <th>19537</th>\n",
       "      <td>Hyundai i10</td>\n",
       "      <td>Hyundai</td>\n",
       "      <td>i10</td>\n",
       "      <td>9</td>\n",
       "      <td>10723</td>\n",
       "      <td>Dealer</td>\n",
       "      <td>Petrol</td>\n",
       "      <td>Manual</td>\n",
       "      <td>19.81</td>\n",
       "      <td>1086</td>\n",
       "      <td>68.05</td>\n",
       "      <td>5</td>\n",
       "      <td>250000</td>\n",
       "    </tr>\n",
       "    <tr>\n",
       "      <th>19540</th>\n",
       "      <td>Maruti Ertiga</td>\n",
       "      <td>Maruti</td>\n",
       "      <td>Ertiga</td>\n",
       "      <td>2</td>\n",
       "      <td>18000</td>\n",
       "      <td>Dealer</td>\n",
       "      <td>Petrol</td>\n",
       "      <td>Manual</td>\n",
       "      <td>17.50</td>\n",
       "      <td>1373</td>\n",
       "      <td>91.10</td>\n",
       "      <td>7</td>\n",
       "      <td>925000</td>\n",
       "    </tr>\n",
       "    <tr>\n",
       "      <th>19541</th>\n",
       "      <td>Skoda Rapid</td>\n",
       "      <td>Skoda</td>\n",
       "      <td>Rapid</td>\n",
       "      <td>6</td>\n",
       "      <td>67000</td>\n",
       "      <td>Dealer</td>\n",
       "      <td>Diesel</td>\n",
       "      <td>Manual</td>\n",
       "      <td>21.14</td>\n",
       "      <td>1498</td>\n",
       "      <td>103.52</td>\n",
       "      <td>5</td>\n",
       "      <td>425000</td>\n",
       "    </tr>\n",
       "    <tr>\n",
       "      <th>19542</th>\n",
       "      <td>Mahindra XUV500</td>\n",
       "      <td>Mahindra</td>\n",
       "      <td>XUV500</td>\n",
       "      <td>5</td>\n",
       "      <td>3800000</td>\n",
       "      <td>Dealer</td>\n",
       "      <td>Diesel</td>\n",
       "      <td>Manual</td>\n",
       "      <td>16.00</td>\n",
       "      <td>2179</td>\n",
       "      <td>140.00</td>\n",
       "      <td>7</td>\n",
       "      <td>1225000</td>\n",
       "    </tr>\n",
       "    <tr>\n",
       "      <th>19543</th>\n",
       "      <td>Honda City</td>\n",
       "      <td>Honda</td>\n",
       "      <td>City</td>\n",
       "      <td>2</td>\n",
       "      <td>13000</td>\n",
       "      <td>Dealer</td>\n",
       "      <td>Petrol</td>\n",
       "      <td>Automatic</td>\n",
       "      <td>18.00</td>\n",
       "      <td>1497</td>\n",
       "      <td>117.60</td>\n",
       "      <td>5</td>\n",
       "      <td>1200000</td>\n",
       "    </tr>\n",
       "  </tbody>\n",
       "</table>\n",
       "<p>15411 rows × 13 columns</p>\n",
       "</div>"
      ]
     },
     "execution_count": 4,
     "metadata": {},
     "output_type": "execute_result"
    }
   ],
   "execution_count": 4
  },
  {
   "cell_type": "code",
   "id": "4d489fad2317586a",
   "metadata": {
    "ExecuteTime": {
     "end_time": "2025-08-27T13:21:28.580933Z",
     "start_time": "2025-08-27T13:21:28.564384Z"
    }
   },
   "source": [
    "df.info()"
   ],
   "outputs": [
    {
     "name": "stdout",
     "output_type": "stream",
     "text": [
      "<class 'pandas.core.frame.DataFrame'>\n",
      "Index: 15411 entries, 0 to 19543\n",
      "Data columns (total 13 columns):\n",
      " #   Column             Non-Null Count  Dtype  \n",
      "---  ------             --------------  -----  \n",
      " 0   car_name           15411 non-null  object \n",
      " 1   brand              15411 non-null  object \n",
      " 2   model              15411 non-null  object \n",
      " 3   vehicle_age        15411 non-null  int64  \n",
      " 4   km_driven          15411 non-null  int64  \n",
      " 5   seller_type        15411 non-null  object \n",
      " 6   fuel_type          15411 non-null  object \n",
      " 7   transmission_type  15411 non-null  object \n",
      " 8   mileage            15411 non-null  float64\n",
      " 9   engine             15411 non-null  int64  \n",
      " 10  max_power          15411 non-null  float64\n",
      " 11  seats              15411 non-null  int64  \n",
      " 12  selling_price      15411 non-null  int64  \n",
      "dtypes: float64(2), int64(5), object(6)\n",
      "memory usage: 1.6+ MB\n"
     ]
    }
   ],
   "execution_count": 5
  },
  {
   "cell_type": "markdown",
   "id": "422f9c5ffaf05fb7",
   "metadata": {},
   "source": [
    "# Data Cleaning\n"
   ]
  },
  {
   "cell_type": "code",
   "id": "ea62a2a02f61042e",
   "metadata": {
    "ExecuteTime": {
     "end_time": "2025-08-27T13:21:28.632970Z",
     "start_time": "2025-08-27T13:21:28.621720Z"
    }
   },
   "source": [
    "df.isnull().sum()"
   ],
   "outputs": [
    {
     "data": {
      "text/plain": [
       "car_name             0\n",
       "brand                0\n",
       "model                0\n",
       "vehicle_age          0\n",
       "km_driven            0\n",
       "seller_type          0\n",
       "fuel_type            0\n",
       "transmission_type    0\n",
       "mileage              0\n",
       "engine               0\n",
       "max_power            0\n",
       "seats                0\n",
       "selling_price        0\n",
       "dtype: int64"
      ]
     },
     "execution_count": 6,
     "metadata": {},
     "output_type": "execute_result"
    }
   ],
   "execution_count": 6
  },
  {
   "cell_type": "code",
   "id": "18b402bc12981922",
   "metadata": {
    "ExecuteTime": {
     "end_time": "2025-08-27T13:21:28.851304Z",
     "start_time": "2025-08-27T13:21:28.828929Z"
    }
   },
   "source": [
    "df.describe()"
   ],
   "outputs": [
    {
     "data": {
      "text/plain": [
       "        vehicle_age     km_driven       mileage        engine     max_power  \\\n",
       "count  15411.000000  1.541100e+04  15411.000000  15411.000000  15411.000000   \n",
       "mean       6.036338  5.561648e+04     19.701151   1486.057751    100.588254   \n",
       "std        3.013291  5.161855e+04      4.171265    521.106696     42.972979   \n",
       "min        0.000000  1.000000e+02      4.000000    793.000000     38.400000   \n",
       "25%        4.000000  3.000000e+04     17.000000   1197.000000     74.000000   \n",
       "50%        6.000000  5.000000e+04     19.670000   1248.000000     88.500000   \n",
       "75%        8.000000  7.000000e+04     22.700000   1582.000000    117.300000   \n",
       "max       29.000000  3.800000e+06     33.540000   6592.000000    626.000000   \n",
       "\n",
       "              seats  selling_price  \n",
       "count  15411.000000   1.541100e+04  \n",
       "mean       5.325482   7.749711e+05  \n",
       "std        0.807628   8.941284e+05  \n",
       "min        0.000000   4.000000e+04  \n",
       "25%        5.000000   3.850000e+05  \n",
       "50%        5.000000   5.560000e+05  \n",
       "75%        5.000000   8.250000e+05  \n",
       "max        9.000000   3.950000e+07  "
      ],
      "text/html": [
       "<div>\n",
       "<style scoped>\n",
       "    .dataframe tbody tr th:only-of-type {\n",
       "        vertical-align: middle;\n",
       "    }\n",
       "\n",
       "    .dataframe tbody tr th {\n",
       "        vertical-align: top;\n",
       "    }\n",
       "\n",
       "    .dataframe thead th {\n",
       "        text-align: right;\n",
       "    }\n",
       "</style>\n",
       "<table border=\"1\" class=\"dataframe\">\n",
       "  <thead>\n",
       "    <tr style=\"text-align: right;\">\n",
       "      <th></th>\n",
       "      <th>vehicle_age</th>\n",
       "      <th>km_driven</th>\n",
       "      <th>mileage</th>\n",
       "      <th>engine</th>\n",
       "      <th>max_power</th>\n",
       "      <th>seats</th>\n",
       "      <th>selling_price</th>\n",
       "    </tr>\n",
       "  </thead>\n",
       "  <tbody>\n",
       "    <tr>\n",
       "      <th>count</th>\n",
       "      <td>15411.000000</td>\n",
       "      <td>1.541100e+04</td>\n",
       "      <td>15411.000000</td>\n",
       "      <td>15411.000000</td>\n",
       "      <td>15411.000000</td>\n",
       "      <td>15411.000000</td>\n",
       "      <td>1.541100e+04</td>\n",
       "    </tr>\n",
       "    <tr>\n",
       "      <th>mean</th>\n",
       "      <td>6.036338</td>\n",
       "      <td>5.561648e+04</td>\n",
       "      <td>19.701151</td>\n",
       "      <td>1486.057751</td>\n",
       "      <td>100.588254</td>\n",
       "      <td>5.325482</td>\n",
       "      <td>7.749711e+05</td>\n",
       "    </tr>\n",
       "    <tr>\n",
       "      <th>std</th>\n",
       "      <td>3.013291</td>\n",
       "      <td>5.161855e+04</td>\n",
       "      <td>4.171265</td>\n",
       "      <td>521.106696</td>\n",
       "      <td>42.972979</td>\n",
       "      <td>0.807628</td>\n",
       "      <td>8.941284e+05</td>\n",
       "    </tr>\n",
       "    <tr>\n",
       "      <th>min</th>\n",
       "      <td>0.000000</td>\n",
       "      <td>1.000000e+02</td>\n",
       "      <td>4.000000</td>\n",
       "      <td>793.000000</td>\n",
       "      <td>38.400000</td>\n",
       "      <td>0.000000</td>\n",
       "      <td>4.000000e+04</td>\n",
       "    </tr>\n",
       "    <tr>\n",
       "      <th>25%</th>\n",
       "      <td>4.000000</td>\n",
       "      <td>3.000000e+04</td>\n",
       "      <td>17.000000</td>\n",
       "      <td>1197.000000</td>\n",
       "      <td>74.000000</td>\n",
       "      <td>5.000000</td>\n",
       "      <td>3.850000e+05</td>\n",
       "    </tr>\n",
       "    <tr>\n",
       "      <th>50%</th>\n",
       "      <td>6.000000</td>\n",
       "      <td>5.000000e+04</td>\n",
       "      <td>19.670000</td>\n",
       "      <td>1248.000000</td>\n",
       "      <td>88.500000</td>\n",
       "      <td>5.000000</td>\n",
       "      <td>5.560000e+05</td>\n",
       "    </tr>\n",
       "    <tr>\n",
       "      <th>75%</th>\n",
       "      <td>8.000000</td>\n",
       "      <td>7.000000e+04</td>\n",
       "      <td>22.700000</td>\n",
       "      <td>1582.000000</td>\n",
       "      <td>117.300000</td>\n",
       "      <td>5.000000</td>\n",
       "      <td>8.250000e+05</td>\n",
       "    </tr>\n",
       "    <tr>\n",
       "      <th>max</th>\n",
       "      <td>29.000000</td>\n",
       "      <td>3.800000e+06</td>\n",
       "      <td>33.540000</td>\n",
       "      <td>6592.000000</td>\n",
       "      <td>626.000000</td>\n",
       "      <td>9.000000</td>\n",
       "      <td>3.950000e+07</td>\n",
       "    </tr>\n",
       "  </tbody>\n",
       "</table>\n",
       "</div>"
      ]
     },
     "execution_count": 7,
     "metadata": {},
     "output_type": "execute_result"
    }
   ],
   "execution_count": 7
  },
  {
   "cell_type": "markdown",
   "id": "d305e332db478023",
   "metadata": {},
   "source": [
    "## Drop Unnecessary column"
   ]
  },
  {
   "cell_type": "code",
   "id": "393ff92d9addf000",
   "metadata": {
    "ExecuteTime": {
     "end_time": "2025-08-27T13:21:28.963816Z",
     "start_time": "2025-08-27T13:21:28.941764Z"
    }
   },
   "source": [
    "df.drop('car_name', axis=1, inplace=True)\n",
    "df.drop('brand', axis=1, inplace=True)"
   ],
   "outputs": [],
   "execution_count": 8
  },
  {
   "cell_type": "code",
   "id": "c83a65a8afd3bf05",
   "metadata": {
    "ExecuteTime": {
     "end_time": "2025-08-27T13:21:29.268208Z",
     "start_time": "2025-08-27T13:21:29.262670Z"
    }
   },
   "source": [
    "df['model'].unique()"
   ],
   "outputs": [
    {
     "data": {
      "text/plain": [
       "array(['Alto', 'Grand', 'i20', 'Ecosport', 'Wagon R', 'i10', 'Venue',\n",
       "       'Swift', 'Verna', 'Duster', 'Cooper', 'Ciaz', 'C-Class', 'Innova',\n",
       "       'Baleno', 'Swift Dzire', 'Vento', 'Creta', 'City', 'Bolero',\n",
       "       'Fortuner', 'KWID', 'Amaze', 'Santro', 'XUV500', 'KUV100', 'Ignis',\n",
       "       'RediGO', 'Scorpio', 'Marazzo', 'Aspire', 'Figo', 'Vitara',\n",
       "       'Tiago', 'Polo', 'Seltos', 'Celerio', 'GO', '5', 'CR-V',\n",
       "       'Endeavour', 'KUV', 'Jazz', '3', 'A4', 'Tigor', 'Ertiga', 'Safari',\n",
       "       'Thar', 'Hexa', 'Rover', 'Eeco', 'A6', 'E-Class', 'Q7', 'Z4', '6',\n",
       "       'XF', 'X5', 'Hector', 'Civic', 'D-Max', 'Cayenne', 'X1', 'Rapid',\n",
       "       'Freestyle', 'Superb', 'Nexon', 'XUV300', 'Dzire VXI', 'S90',\n",
       "       'WR-V', 'XL6', 'Triber', 'ES', 'Wrangler', 'Camry', 'Elantra',\n",
       "       'Yaris', 'GL-Class', '7', 'S-Presso', 'Dzire LXI', 'Aura', 'XC',\n",
       "       'Ghibli', 'Continental', 'CR', 'Kicks', 'S-Class', 'Tucson',\n",
       "       'Harrier', 'X3', 'Octavia', 'Compass', 'CLS', 'redi-GO', 'Glanza',\n",
       "       'Macan', 'X4', 'Dzire ZXI', 'XC90', 'F-PACE', 'A8', 'MUX',\n",
       "       'GTC4Lusso', 'GLS', 'X-Trail', 'XE', 'XC60', 'Panamera', 'Alturas',\n",
       "       'Altroz', 'NX', 'Carnival', 'C', 'RX', 'Ghost', 'Quattroporte',\n",
       "       'Gurkha'], dtype=object)"
      ]
     },
     "execution_count": 9,
     "metadata": {},
     "output_type": "execute_result"
    }
   ],
   "execution_count": 9
  },
  {
   "cell_type": "markdown",
   "id": "2056c892d57ad3f7",
   "metadata": {},
   "source": [
    "## Getting All Different Types OF Features\n"
   ]
  },
  {
   "cell_type": "code",
   "id": "8de77fce2d6fe77e",
   "metadata": {
    "ExecuteTime": {
     "end_time": "2025-08-27T13:21:29.345391Z",
     "start_time": "2025-08-27T13:21:29.337962Z"
    }
   },
   "source": [
    "num_features = [feature for feature in df.columns if df[feature].dtype != 'O']\n",
    "print('Num of Numerical Features :', len(num_features))\n",
    "cat_features = [feature for feature in df.columns if df[feature].dtype == 'O']\n",
    "print('Num of Categorical Features :', len(cat_features))\n",
    "discrete_features=[feature for feature in num_features if len(df[feature].unique())<=25]\n",
    "print('Num of Discrete Features :',len(discrete_features))\n",
    "continuous_features=[feature for feature in num_features if feature not in discrete_features]\n",
    "print('Num of Continuous Features :',len(continuous_features))"
   ],
   "outputs": [
    {
     "name": "stdout",
     "output_type": "stream",
     "text": [
      "Num of Numerical Features : 7\n",
      "Num of Categorical Features : 4\n",
      "Num of Discrete Features : 2\n",
      "Num of Continuous Features : 5\n"
     ]
    }
   ],
   "execution_count": 10
  },
  {
   "cell_type": "code",
   "id": "ae746fd58c39ef4e",
   "metadata": {
    "ExecuteTime": {
     "end_time": "2025-08-27T13:21:29.400504Z",
     "start_time": "2025-08-27T13:21:29.396453Z"
    }
   },
   "source": [
    "X=df.drop(['selling_price'],axis=1)\n",
    "y=df['selling_price']"
   ],
   "outputs": [],
   "execution_count": 11
  },
  {
   "cell_type": "markdown",
   "id": "2f173b4db7ed34e",
   "metadata": {},
   "source": [
    "# Feature Encoding and Scaling\n"
   ]
  },
  {
   "cell_type": "code",
   "id": "82765863d3b0546e",
   "metadata": {
    "ExecuteTime": {
     "end_time": "2025-08-27T13:21:29.430636Z",
     "start_time": "2025-08-27T13:21:29.424645Z"
    }
   },
   "source": [
    "df['model'].value_counts()\n"
   ],
   "outputs": [
    {
     "data": {
      "text/plain": [
       "model\n",
       "i20             906\n",
       "Swift Dzire     890\n",
       "Swift           781\n",
       "Alto            778\n",
       "City            757\n",
       "               ... \n",
       "Altroz            1\n",
       "C                 1\n",
       "Ghost             1\n",
       "Quattroporte      1\n",
       "Gurkha            1\n",
       "Name: count, Length: 120, dtype: int64"
      ]
     },
     "execution_count": 12,
     "metadata": {},
     "output_type": "execute_result"
    }
   ],
   "execution_count": 12
  },
  {
   "cell_type": "code",
   "id": "4a36fb86d4c7d4b9",
   "metadata": {
    "ExecuteTime": {
     "end_time": "2025-08-27T13:21:29.633642Z",
     "start_time": "2025-08-27T13:21:29.473211Z"
    }
   },
   "source": [
    "from sklearn.preprocessing import LabelEncoder"
   ],
   "outputs": [],
   "execution_count": 13
  },
  {
   "cell_type": "code",
   "id": "335876f6baf1494a",
   "metadata": {
    "ExecuteTime": {
     "end_time": "2025-08-27T13:21:29.694708Z",
     "start_time": "2025-08-27T13:21:29.687667Z"
    }
   },
   "source": [
    "le=LabelEncoder()\n",
    "X['model']=le.fit_transform(X['model'])"
   ],
   "outputs": [],
   "execution_count": 14
  },
  {
   "cell_type": "code",
   "id": "b4817b7879e3e455",
   "metadata": {
    "ExecuteTime": {
     "end_time": "2025-08-27T13:21:29.741721Z",
     "start_time": "2025-08-27T13:21:29.731642Z"
    }
   },
   "source": [
    "X.head()"
   ],
   "outputs": [
    {
     "data": {
      "text/plain": [
       "   model  vehicle_age  km_driven seller_type fuel_type transmission_type  \\\n",
       "0      7            9     120000  Individual    Petrol            Manual   \n",
       "1     54            5      20000  Individual    Petrol            Manual   \n",
       "2    118           11      60000  Individual    Petrol            Manual   \n",
       "3      7            9      37000  Individual    Petrol            Manual   \n",
       "4     38            6      30000      Dealer    Diesel            Manual   \n",
       "\n",
       "   mileage  engine  max_power  seats  \n",
       "0    19.70     796      46.30      5  \n",
       "1    18.90    1197      82.00      5  \n",
       "2    17.00    1197      80.00      5  \n",
       "3    20.92     998      67.10      5  \n",
       "4    22.77    1498      98.59      5  "
      ],
      "text/html": [
       "<div>\n",
       "<style scoped>\n",
       "    .dataframe tbody tr th:only-of-type {\n",
       "        vertical-align: middle;\n",
       "    }\n",
       "\n",
       "    .dataframe tbody tr th {\n",
       "        vertical-align: top;\n",
       "    }\n",
       "\n",
       "    .dataframe thead th {\n",
       "        text-align: right;\n",
       "    }\n",
       "</style>\n",
       "<table border=\"1\" class=\"dataframe\">\n",
       "  <thead>\n",
       "    <tr style=\"text-align: right;\">\n",
       "      <th></th>\n",
       "      <th>model</th>\n",
       "      <th>vehicle_age</th>\n",
       "      <th>km_driven</th>\n",
       "      <th>seller_type</th>\n",
       "      <th>fuel_type</th>\n",
       "      <th>transmission_type</th>\n",
       "      <th>mileage</th>\n",
       "      <th>engine</th>\n",
       "      <th>max_power</th>\n",
       "      <th>seats</th>\n",
       "    </tr>\n",
       "  </thead>\n",
       "  <tbody>\n",
       "    <tr>\n",
       "      <th>0</th>\n",
       "      <td>7</td>\n",
       "      <td>9</td>\n",
       "      <td>120000</td>\n",
       "      <td>Individual</td>\n",
       "      <td>Petrol</td>\n",
       "      <td>Manual</td>\n",
       "      <td>19.70</td>\n",
       "      <td>796</td>\n",
       "      <td>46.30</td>\n",
       "      <td>5</td>\n",
       "    </tr>\n",
       "    <tr>\n",
       "      <th>1</th>\n",
       "      <td>54</td>\n",
       "      <td>5</td>\n",
       "      <td>20000</td>\n",
       "      <td>Individual</td>\n",
       "      <td>Petrol</td>\n",
       "      <td>Manual</td>\n",
       "      <td>18.90</td>\n",
       "      <td>1197</td>\n",
       "      <td>82.00</td>\n",
       "      <td>5</td>\n",
       "    </tr>\n",
       "    <tr>\n",
       "      <th>2</th>\n",
       "      <td>118</td>\n",
       "      <td>11</td>\n",
       "      <td>60000</td>\n",
       "      <td>Individual</td>\n",
       "      <td>Petrol</td>\n",
       "      <td>Manual</td>\n",
       "      <td>17.00</td>\n",
       "      <td>1197</td>\n",
       "      <td>80.00</td>\n",
       "      <td>5</td>\n",
       "    </tr>\n",
       "    <tr>\n",
       "      <th>3</th>\n",
       "      <td>7</td>\n",
       "      <td>9</td>\n",
       "      <td>37000</td>\n",
       "      <td>Individual</td>\n",
       "      <td>Petrol</td>\n",
       "      <td>Manual</td>\n",
       "      <td>20.92</td>\n",
       "      <td>998</td>\n",
       "      <td>67.10</td>\n",
       "      <td>5</td>\n",
       "    </tr>\n",
       "    <tr>\n",
       "      <th>4</th>\n",
       "      <td>38</td>\n",
       "      <td>6</td>\n",
       "      <td>30000</td>\n",
       "      <td>Dealer</td>\n",
       "      <td>Diesel</td>\n",
       "      <td>Manual</td>\n",
       "      <td>22.77</td>\n",
       "      <td>1498</td>\n",
       "      <td>98.59</td>\n",
       "      <td>5</td>\n",
       "    </tr>\n",
       "  </tbody>\n",
       "</table>\n",
       "</div>"
      ]
     },
     "execution_count": 15,
     "metadata": {},
     "output_type": "execute_result"
    }
   ],
   "execution_count": 15
  },
  {
   "cell_type": "code",
   "id": "8e61e69527bf10bb",
   "metadata": {
    "ExecuteTime": {
     "end_time": "2025-08-27T13:21:29.934150Z",
     "start_time": "2025-08-27T13:21:29.926974Z"
    }
   },
   "source": [
    "len(df['seller_type'].unique()),len(df['fuel_type'].unique()),len(df['transmission_type'].unique())\n"
   ],
   "outputs": [
    {
     "data": {
      "text/plain": [
       "(3, 5, 2)"
      ]
     },
     "execution_count": 16,
     "metadata": {},
     "output_type": "execute_result"
    }
   ],
   "execution_count": 16
  },
  {
   "cell_type": "code",
   "id": "f258d6d0c49567a6",
   "metadata": {
    "ExecuteTime": {
     "end_time": "2025-08-27T13:21:30.296167Z",
     "start_time": "2025-08-27T13:21:30.067001Z"
    }
   },
   "source": [
    "num_features = X.select_dtypes(exclude=\"object\").columns\n",
    "onehot_columns = ['seller_type','fuel_type','transmission_type']\n",
    "\n",
    "from sklearn.preprocessing import OneHotEncoder, StandardScaler\n",
    "from sklearn.compose import ColumnTransformer\n",
    "\n",
    "numeric_transformer = StandardScaler()\n",
    "oh_transformer = OneHotEncoder(drop='first')\n",
    "\n",
    "preprocessor = ColumnTransformer(\n",
    "    [\n",
    "        (\"OneHotEncoder\", oh_transformer, onehot_columns),\n",
    "        (\"StandardScaler\", numeric_transformer, num_features)\n",
    "\n",
    "    ],remainder='passthrough'\n",
    "\n",
    ")"
   ],
   "outputs": [],
   "execution_count": 17
  },
  {
   "cell_type": "code",
   "id": "70c7cc5aff9d2fa3",
   "metadata": {
    "ExecuteTime": {
     "end_time": "2025-08-27T13:21:30.367080Z",
     "start_time": "2025-08-27T13:21:30.345385Z"
    }
   },
   "source": [
    "X=preprocessor.fit_transform(X)"
   ],
   "outputs": [],
   "execution_count": 18
  },
  {
   "cell_type": "code",
   "id": "9cb140e2aef764bc",
   "metadata": {
    "ExecuteTime": {
     "end_time": "2025-08-27T13:21:30.418469Z",
     "start_time": "2025-08-27T13:21:30.402694Z"
    }
   },
   "source": [
    "pd.DataFrame(X)"
   ],
   "outputs": [
    {
     "data": {
      "text/plain": [
       "        0    1    2    3    4    5    6         7         8          9   \\\n",
       "0      1.0  0.0  0.0  0.0  0.0  1.0  1.0 -1.519714  0.983562   1.247335   \n",
       "1      1.0  0.0  0.0  0.0  0.0  1.0  1.0 -0.225693 -0.343933  -0.690016   \n",
       "2      1.0  0.0  0.0  0.0  0.0  1.0  1.0  1.536377  1.647309   0.084924   \n",
       "3      1.0  0.0  0.0  0.0  0.0  1.0  1.0 -1.519714  0.983562  -0.360667   \n",
       "4      0.0  0.0  1.0  0.0  0.0  0.0  1.0 -0.666211 -0.012060  -0.496281   \n",
       "...    ...  ...  ...  ...  ...  ...  ...       ...       ...        ...   \n",
       "15406  0.0  0.0  0.0  0.0  0.0  1.0  1.0  1.508844  0.983562  -0.869744   \n",
       "15407  0.0  0.0  0.0  0.0  0.0  1.0  1.0 -0.556082 -1.339555  -0.728763   \n",
       "15408  0.0  0.0  1.0  0.0  0.0  0.0  1.0  0.407551 -0.012060   0.220539   \n",
       "15409  0.0  0.0  1.0  0.0  0.0  0.0  1.0  1.426247 -0.343933  72.541850   \n",
       "15410  0.0  0.0  0.0  0.0  0.0  1.0  0.0 -1.024131 -1.339555  -0.825631   \n",
       "\n",
       "             10        11        12        13  \n",
       "0     -0.000276 -1.324259 -1.263352 -0.403022  \n",
       "1     -0.192071 -0.554718 -0.432571 -0.403022  \n",
       "2     -0.647583 -0.554718 -0.479113 -0.403022  \n",
       "3      0.292211 -0.936610 -0.779312 -0.403022  \n",
       "4      0.735736  0.022918 -0.046502 -0.403022  \n",
       "...         ...       ...       ...       ...  \n",
       "15406  0.026096 -0.767733 -0.757204 -0.403022  \n",
       "15407 -0.527711 -0.216964 -0.220803  2.073444  \n",
       "15408  0.344954  0.022918  0.068225 -0.403022  \n",
       "15409 -0.887326  1.329794  0.917158  2.073444  \n",
       "15410 -0.407839  0.020999  0.395884 -0.403022  \n",
       "\n",
       "[15411 rows x 14 columns]"
      ],
      "text/html": [
       "<div>\n",
       "<style scoped>\n",
       "    .dataframe tbody tr th:only-of-type {\n",
       "        vertical-align: middle;\n",
       "    }\n",
       "\n",
       "    .dataframe tbody tr th {\n",
       "        vertical-align: top;\n",
       "    }\n",
       "\n",
       "    .dataframe thead th {\n",
       "        text-align: right;\n",
       "    }\n",
       "</style>\n",
       "<table border=\"1\" class=\"dataframe\">\n",
       "  <thead>\n",
       "    <tr style=\"text-align: right;\">\n",
       "      <th></th>\n",
       "      <th>0</th>\n",
       "      <th>1</th>\n",
       "      <th>2</th>\n",
       "      <th>3</th>\n",
       "      <th>4</th>\n",
       "      <th>5</th>\n",
       "      <th>6</th>\n",
       "      <th>7</th>\n",
       "      <th>8</th>\n",
       "      <th>9</th>\n",
       "      <th>10</th>\n",
       "      <th>11</th>\n",
       "      <th>12</th>\n",
       "      <th>13</th>\n",
       "    </tr>\n",
       "  </thead>\n",
       "  <tbody>\n",
       "    <tr>\n",
       "      <th>0</th>\n",
       "      <td>1.0</td>\n",
       "      <td>0.0</td>\n",
       "      <td>0.0</td>\n",
       "      <td>0.0</td>\n",
       "      <td>0.0</td>\n",
       "      <td>1.0</td>\n",
       "      <td>1.0</td>\n",
       "      <td>-1.519714</td>\n",
       "      <td>0.983562</td>\n",
       "      <td>1.247335</td>\n",
       "      <td>-0.000276</td>\n",
       "      <td>-1.324259</td>\n",
       "      <td>-1.263352</td>\n",
       "      <td>-0.403022</td>\n",
       "    </tr>\n",
       "    <tr>\n",
       "      <th>1</th>\n",
       "      <td>1.0</td>\n",
       "      <td>0.0</td>\n",
       "      <td>0.0</td>\n",
       "      <td>0.0</td>\n",
       "      <td>0.0</td>\n",
       "      <td>1.0</td>\n",
       "      <td>1.0</td>\n",
       "      <td>-0.225693</td>\n",
       "      <td>-0.343933</td>\n",
       "      <td>-0.690016</td>\n",
       "      <td>-0.192071</td>\n",
       "      <td>-0.554718</td>\n",
       "      <td>-0.432571</td>\n",
       "      <td>-0.403022</td>\n",
       "    </tr>\n",
       "    <tr>\n",
       "      <th>2</th>\n",
       "      <td>1.0</td>\n",
       "      <td>0.0</td>\n",
       "      <td>0.0</td>\n",
       "      <td>0.0</td>\n",
       "      <td>0.0</td>\n",
       "      <td>1.0</td>\n",
       "      <td>1.0</td>\n",
       "      <td>1.536377</td>\n",
       "      <td>1.647309</td>\n",
       "      <td>0.084924</td>\n",
       "      <td>-0.647583</td>\n",
       "      <td>-0.554718</td>\n",
       "      <td>-0.479113</td>\n",
       "      <td>-0.403022</td>\n",
       "    </tr>\n",
       "    <tr>\n",
       "      <th>3</th>\n",
       "      <td>1.0</td>\n",
       "      <td>0.0</td>\n",
       "      <td>0.0</td>\n",
       "      <td>0.0</td>\n",
       "      <td>0.0</td>\n",
       "      <td>1.0</td>\n",
       "      <td>1.0</td>\n",
       "      <td>-1.519714</td>\n",
       "      <td>0.983562</td>\n",
       "      <td>-0.360667</td>\n",
       "      <td>0.292211</td>\n",
       "      <td>-0.936610</td>\n",
       "      <td>-0.779312</td>\n",
       "      <td>-0.403022</td>\n",
       "    </tr>\n",
       "    <tr>\n",
       "      <th>4</th>\n",
       "      <td>0.0</td>\n",
       "      <td>0.0</td>\n",
       "      <td>1.0</td>\n",
       "      <td>0.0</td>\n",
       "      <td>0.0</td>\n",
       "      <td>0.0</td>\n",
       "      <td>1.0</td>\n",
       "      <td>-0.666211</td>\n",
       "      <td>-0.012060</td>\n",
       "      <td>-0.496281</td>\n",
       "      <td>0.735736</td>\n",
       "      <td>0.022918</td>\n",
       "      <td>-0.046502</td>\n",
       "      <td>-0.403022</td>\n",
       "    </tr>\n",
       "    <tr>\n",
       "      <th>...</th>\n",
       "      <td>...</td>\n",
       "      <td>...</td>\n",
       "      <td>...</td>\n",
       "      <td>...</td>\n",
       "      <td>...</td>\n",
       "      <td>...</td>\n",
       "      <td>...</td>\n",
       "      <td>...</td>\n",
       "      <td>...</td>\n",
       "      <td>...</td>\n",
       "      <td>...</td>\n",
       "      <td>...</td>\n",
       "      <td>...</td>\n",
       "      <td>...</td>\n",
       "    </tr>\n",
       "    <tr>\n",
       "      <th>15406</th>\n",
       "      <td>0.0</td>\n",
       "      <td>0.0</td>\n",
       "      <td>0.0</td>\n",
       "      <td>0.0</td>\n",
       "      <td>0.0</td>\n",
       "      <td>1.0</td>\n",
       "      <td>1.0</td>\n",
       "      <td>1.508844</td>\n",
       "      <td>0.983562</td>\n",
       "      <td>-0.869744</td>\n",
       "      <td>0.026096</td>\n",
       "      <td>-0.767733</td>\n",
       "      <td>-0.757204</td>\n",
       "      <td>-0.403022</td>\n",
       "    </tr>\n",
       "    <tr>\n",
       "      <th>15407</th>\n",
       "      <td>0.0</td>\n",
       "      <td>0.0</td>\n",
       "      <td>0.0</td>\n",
       "      <td>0.0</td>\n",
       "      <td>0.0</td>\n",
       "      <td>1.0</td>\n",
       "      <td>1.0</td>\n",
       "      <td>-0.556082</td>\n",
       "      <td>-1.339555</td>\n",
       "      <td>-0.728763</td>\n",
       "      <td>-0.527711</td>\n",
       "      <td>-0.216964</td>\n",
       "      <td>-0.220803</td>\n",
       "      <td>2.073444</td>\n",
       "    </tr>\n",
       "    <tr>\n",
       "      <th>15408</th>\n",
       "      <td>0.0</td>\n",
       "      <td>0.0</td>\n",
       "      <td>1.0</td>\n",
       "      <td>0.0</td>\n",
       "      <td>0.0</td>\n",
       "      <td>0.0</td>\n",
       "      <td>1.0</td>\n",
       "      <td>0.407551</td>\n",
       "      <td>-0.012060</td>\n",
       "      <td>0.220539</td>\n",
       "      <td>0.344954</td>\n",
       "      <td>0.022918</td>\n",
       "      <td>0.068225</td>\n",
       "      <td>-0.403022</td>\n",
       "    </tr>\n",
       "    <tr>\n",
       "      <th>15409</th>\n",
       "      <td>0.0</td>\n",
       "      <td>0.0</td>\n",
       "      <td>1.0</td>\n",
       "      <td>0.0</td>\n",
       "      <td>0.0</td>\n",
       "      <td>0.0</td>\n",
       "      <td>1.0</td>\n",
       "      <td>1.426247</td>\n",
       "      <td>-0.343933</td>\n",
       "      <td>72.541850</td>\n",
       "      <td>-0.887326</td>\n",
       "      <td>1.329794</td>\n",
       "      <td>0.917158</td>\n",
       "      <td>2.073444</td>\n",
       "    </tr>\n",
       "    <tr>\n",
       "      <th>15410</th>\n",
       "      <td>0.0</td>\n",
       "      <td>0.0</td>\n",
       "      <td>0.0</td>\n",
       "      <td>0.0</td>\n",
       "      <td>0.0</td>\n",
       "      <td>1.0</td>\n",
       "      <td>0.0</td>\n",
       "      <td>-1.024131</td>\n",
       "      <td>-1.339555</td>\n",
       "      <td>-0.825631</td>\n",
       "      <td>-0.407839</td>\n",
       "      <td>0.020999</td>\n",
       "      <td>0.395884</td>\n",
       "      <td>-0.403022</td>\n",
       "    </tr>\n",
       "  </tbody>\n",
       "</table>\n",
       "<p>15411 rows × 14 columns</p>\n",
       "</div>"
      ]
     },
     "execution_count": 19,
     "metadata": {},
     "output_type": "execute_result"
    }
   ],
   "execution_count": 19
  },
  {
   "cell_type": "markdown",
   "id": "df08c18080fe397b",
   "metadata": {},
   "source": [
    "# Model Training And Model Selection\n"
   ]
  },
  {
   "cell_type": "code",
   "id": "2bcd9cc261544e7d",
   "metadata": {
    "ExecuteTime": {
     "end_time": "2025-08-27T13:21:30.548245Z",
     "start_time": "2025-08-27T13:21:30.544121Z"
    }
   },
   "source": [
    "from sklearn.model_selection import train_test_split"
   ],
   "outputs": [],
   "execution_count": 20
  },
  {
   "cell_type": "code",
   "id": "e8fe01dfdcbcf4b3",
   "metadata": {
    "ExecuteTime": {
     "end_time": "2025-08-27T13:21:30.641428Z",
     "start_time": "2025-08-27T13:21:30.630564Z"
    }
   },
   "source": [
    "X_train, X_test, y_train, y_test = train_test_split(X,y,test_size=0.2,random_state=42)\n",
    "X_train.shape, X_test.shape"
   ],
   "outputs": [
    {
     "data": {
      "text/plain": [
       "((12328, 14), (3083, 14))"
      ]
     },
     "execution_count": 21,
     "metadata": {},
     "output_type": "execute_result"
    }
   ],
   "execution_count": 21
  },
  {
   "cell_type": "code",
   "id": "8cfa0532c0313da3",
   "metadata": {
    "ExecuteTime": {
     "end_time": "2025-08-27T13:21:30.716681Z",
     "start_time": "2025-08-27T13:21:30.711027Z"
    }
   },
   "source": [
    "X_train"
   ],
   "outputs": [
    {
     "data": {
      "text/plain": [
       "array([[ 0.        ,  0.        ,  1.        , ...,  1.75390551,\n",
       "         2.66249771, -0.40302241],\n",
       "       [ 1.        ,  0.        ,  0.        , ..., -0.55087963,\n",
       "        -0.38602844, -0.40302241],\n",
       "       [ 0.        ,  0.        ,  1.        , ...,  0.89033072,\n",
       "         3.27453006, -0.40302241],\n",
       "       ...,\n",
       "       [ 1.        ,  0.        ,  0.        , ..., -0.9366097 ,\n",
       "        -0.78070786, -0.40302241],\n",
       "       [ 0.        ,  0.        ,  0.        , ..., -0.55471774,\n",
       "        -0.43582879, -0.40302241],\n",
       "       [ 1.        ,  0.        ,  0.        , ..., -0.04616815,\n",
       "         0.06194201, -0.40302241]], shape=(12328, 14))"
      ]
     },
     "execution_count": 22,
     "metadata": {},
     "output_type": "execute_result"
    }
   ],
   "execution_count": 22
  },
  {
   "cell_type": "code",
   "id": "41bc0259259fca1f",
   "metadata": {
    "ExecuteTime": {
     "end_time": "2025-08-27T13:21:31.489120Z",
     "start_time": "2025-08-27T13:21:30.750812Z"
    }
   },
   "source": [
    "from sklearn.ensemble import RandomForestRegressor\n",
    "from sklearn.linear_model import LinearRegression, Ridge,Lasso\n",
    "from sklearn.neighbors import KNeighborsRegressor\n",
    "from sklearn.tree import DecisionTreeRegressor\n",
    "from sklearn.ensemble import AdaBoostRegressor\n",
    "from xgboost import XGBRFRegressor\n",
    "\n",
    "from sklearn.metrics import r2_score, mean_absolute_error, mean_squared_error"
   ],
   "outputs": [],
   "execution_count": 23
  },
  {
   "cell_type": "markdown",
   "id": "6d65747fa9d8f4ab",
   "metadata": {},
   "source": [
    "## Create a Function to Evaluate Model\n"
   ]
  },
  {
   "cell_type": "code",
   "id": "bb6a386636fb9cfa",
   "metadata": {
    "ExecuteTime": {
     "end_time": "2025-08-27T13:21:31.650509Z",
     "start_time": "2025-08-27T13:21:31.646510Z"
    }
   },
   "source": [
    "def evaluate_model(true, predicted):\n",
    "    mae = mean_absolute_error(true, predicted)\n",
    "    mse = mean_squared_error(true, predicted)\n",
    "    rmse = np.sqrt(mean_squared_error(true, predicted))\n",
    "    r2_square = r2_score(true, predicted)\n",
    "    return mae, rmse, r2_square"
   ],
   "outputs": [],
   "execution_count": 24
  },
  {
   "cell_type": "markdown",
   "id": "3f3a8848d76f8fb5",
   "metadata": {},
   "source": [
    "## Beginning Model Training\n"
   ]
  },
  {
   "cell_type": "code",
   "id": "432d2d9bf56e3d3b",
   "metadata": {
    "ExecuteTime": {
     "end_time": "2025-08-27T13:21:36.054157Z",
     "start_time": "2025-08-27T13:21:31.691026Z"
    }
   },
   "source": [
    "models = {\n",
    "    \"Linear Regression\": LinearRegression(),\n",
    "    \"Lasso\": Lasso(),\n",
    "    \"Ridge\": Ridge(),\n",
    "    \"K-Neighbors Regressor\": KNeighborsRegressor(),\n",
    "    \"Decision Tree\": DecisionTreeRegressor(),\n",
    "    \"Random Forest Regressor\": RandomForestRegressor(),\n",
    "        \"Adaboost Regressor\":AdaBoostRegressor(),\n",
    "    \"XGBoost\":XGBRFRegressor()\n",
    "\n",
    "\n",
    "}\n",
    "\n",
    "for i in range(len(list(models))):\n",
    "    model = list(models.values())[i]\n",
    "    model.fit(X_train, y_train) # Train model\n",
    "\n",
    "    y_train_pred = model.predict(X_train)\n",
    "    y_test_pred = model.predict(X_test)\n",
    "\n",
    "    model_train_mae , model_train_rmse, model_train_r2 = evaluate_model(y_train, y_train_pred)\n",
    "\n",
    "    model_test_mae , model_test_rmse, model_test_r2 = evaluate_model(y_test, y_test_pred)\n",
    "\n",
    "\n",
    "    print(list(models.keys())[i])\n",
    "\n",
    "    print('Model performance for Training set')\n",
    "    print(\"- Root Mean Squared Error: {:.4f}\".format(model_train_rmse))\n",
    "    print(\"- Mean Absolute Error: {:.4f}\".format(model_train_mae))\n",
    "    print(\"- R2 Score: {:.4f}\".format(model_train_r2))\n",
    "\n",
    "    print('----------------------------------')\n",
    "\n",
    "    print('Model performance for Test set')\n",
    "    print(\"- Root Mean Squared Error: {:.4f}\".format(model_test_rmse))\n",
    "    print(\"- Mean Absolute Error: {:.4f}\".format(model_test_mae))\n",
    "    print(\"- R2 Score: {:.4f}\".format(model_test_r2))\n",
    "\n",
    "    print('='*35)\n",
    "    print('\\n')"
   ],
   "outputs": [
    {
     "name": "stdout",
     "output_type": "stream",
     "text": [
      "Linear Regression\n",
      "Model performance for Training set\n",
      "- Root Mean Squared Error: 553855.6665\n",
      "- Mean Absolute Error: 268101.6071\n",
      "- R2 Score: 0.6218\n",
      "----------------------------------\n",
      "Model performance for Test set\n",
      "- Root Mean Squared Error: 502543.5930\n",
      "- Mean Absolute Error: 279618.5794\n",
      "- R2 Score: 0.6645\n",
      "===================================\n",
      "\n",
      "\n",
      "Lasso\n",
      "Model performance for Training set\n",
      "- Root Mean Squared Error: 553855.6710\n",
      "- Mean Absolute Error: 268099.2226\n",
      "- R2 Score: 0.6218\n",
      "----------------------------------\n",
      "Model performance for Test set\n",
      "- Root Mean Squared Error: 502542.6696\n",
      "- Mean Absolute Error: 279614.7461\n",
      "- R2 Score: 0.6645\n",
      "===================================\n",
      "\n",
      "\n",
      "Ridge\n",
      "Model performance for Training set\n",
      "- Root Mean Squared Error: 553856.3160\n",
      "- Mean Absolute Error: 268059.8015\n",
      "- R2 Score: 0.6218\n",
      "----------------------------------\n",
      "Model performance for Test set\n",
      "- Root Mean Squared Error: 502533.8230\n",
      "- Mean Absolute Error: 279557.2169\n",
      "- R2 Score: 0.6645\n",
      "===================================\n",
      "\n",
      "\n",
      "K-Neighbors Regressor\n",
      "Model performance for Training set\n",
      "- Root Mean Squared Error: 325873.0088\n",
      "- Mean Absolute Error: 91425.4705\n",
      "- R2 Score: 0.8691\n",
      "----------------------------------\n",
      "Model performance for Test set\n",
      "- Root Mean Squared Error: 253024.3951\n",
      "- Mean Absolute Error: 112526.3461\n",
      "- R2 Score: 0.9150\n",
      "===================================\n",
      "\n",
      "\n",
      "Decision Tree\n",
      "Model performance for Training set\n",
      "- Root Mean Squared Error: 20797.2352\n",
      "- Mean Absolute Error: 5164.8199\n",
      "- R2 Score: 0.9995\n",
      "----------------------------------\n",
      "Model performance for Test set\n",
      "- Root Mean Squared Error: 307413.6777\n",
      "- Mean Absolute Error: 125382.6819\n",
      "- R2 Score: 0.8745\n",
      "===================================\n",
      "\n",
      "\n",
      "Random Forest Regressor\n",
      "Model performance for Training set\n",
      "- Root Mean Squared Error: 137483.4896\n",
      "- Mean Absolute Error: 40094.9643\n",
      "- R2 Score: 0.9767\n",
      "----------------------------------\n",
      "Model performance for Test set\n",
      "- Root Mean Squared Error: 229040.1286\n",
      "- Mean Absolute Error: 101711.1671\n",
      "- R2 Score: 0.9303\n",
      "===================================\n",
      "\n",
      "\n",
      "Adaboost Regressor\n",
      "Model performance for Training set\n",
      "- Root Mean Squared Error: 386770.7413\n",
      "- Mean Absolute Error: 253832.2555\n",
      "- R2 Score: 0.8156\n",
      "----------------------------------\n",
      "Model performance for Test set\n",
      "- Root Mean Squared Error: 465090.5420\n",
      "- Mean Absolute Error: 274839.0327\n",
      "- R2 Score: 0.7127\n",
      "===================================\n",
      "\n",
      "\n",
      "XGBoost\n",
      "Model performance for Training set\n",
      "- Root Mean Squared Error: 238573.5787\n",
      "- Mean Absolute Error: 123240.5625\n",
      "- R2 Score: 0.9298\n",
      "----------------------------------\n",
      "Model performance for Test set\n",
      "- Root Mean Squared Error: 378384.1512\n",
      "- Mean Absolute Error: 143313.7969\n",
      "- R2 Score: 0.8098\n",
      "===================================\n",
      "\n",
      "\n"
     ]
    }
   ],
   "execution_count": 25
  },
  {
   "cell_type": "markdown",
   "id": "465490d8e2294e32",
   "metadata": {},
   "source": [
    "# Hyperparameter Tuning\n"
   ]
  },
  {
   "cell_type": "markdown",
   "id": "c3c851e88a615949",
   "metadata": {},
   "source": [
    "### - few parameter for Hyperparamter tuning\n"
   ]
  },
  {
   "cell_type": "code",
   "id": "6b8792d815b4259f",
   "metadata": {
    "ExecuteTime": {
     "end_time": "2025-08-27T13:21:36.088336Z",
     "start_time": "2025-08-27T13:21:36.083336Z"
    }
   },
   "source": [
    "knn_params = {\"n_neighbors\": [2, 3, 10, 20, 40, 50]}\n",
    "rf_params = {\"max_depth\": [5, 8, 15, None, 10],\n",
    "             \"max_features\": [5, 7, \"auto\", 8],\n",
    "             \"min_samples_split\": [2, 8, 15, 20],\n",
    "             \"n_estimators\": [100, 200, 500, 1000]}\n",
    "xgboost_params = {\n",
    "    \"learning_rate\": [0.1, 0.01],\n",
    "    \"max_depth\": [5, 8, 12, 20, 30],\n",
    "    \"n_estimators\": [100, 200, 300],\n",
    "    \"colsample_bytree\": [0.5, 0.8, 1, 0.3, 0.4]\n",
    "}"
   ],
   "outputs": [],
   "execution_count": 26
  },
  {
   "cell_type": "markdown",
   "id": "b7743249db472680",
   "metadata": {},
   "source": [
    "### Models list for Hyperparameter tuning\n"
   ]
  },
  {
   "cell_type": "code",
   "id": "91b4d5b1f52cfc2b",
   "metadata": {
    "ExecuteTime": {
     "end_time": "2025-08-27T13:21:36.101038Z",
     "start_time": "2025-08-27T13:21:36.096850Z"
    }
   },
   "source": [
    "randomcv_models = [('KNN', KNeighborsRegressor(), knn_params),\n",
    "                   (\"RF\", RandomForestRegressor(), rf_params),\n",
    "                   (\"XgBoost\",XGBRFRegressor(),xgboost_params)\n",
    "\n",
    "                   ]"
   ],
   "outputs": [],
   "execution_count": 27
  },
  {
   "cell_type": "code",
   "id": "8a922ace084294d0",
   "metadata": {
    "ExecuteTime": {
     "end_time": "2025-08-27T13:21:36.112920Z",
     "start_time": "2025-08-27T13:21:36.109046Z"
    }
   },
   "source": [
    "from sklearn.model_selection import RandomizedSearchCV\n",
    "\n",
    "model_param = {}\n",
    "for name, model, params in randomcv_models:\n",
    "    random = RandomizedSearchCV(estimator=model,\n",
    "                                   param_distributions=params,\n",
    "                                   n_iter=100,\n",
    "                                   cv=3,\n",
    "                                   verbose=2,\n",
    "                                   n_jobs=-1)\n",
    "    random.fit(X_train, y_train)\n",
    "    model_param[name] = random.best_params_\n",
    "\n",
    "for model_name in model_param:\n",
    "    print(f\"---------------- Best Params for {model_name} -------------------\")\n",
    "    print(model_param[model_name])"
   ],
   "outputs": [],
   "execution_count": 28
  },
  {
   "cell_type": "markdown",
   "id": "9cdb5f40668878d2",
   "metadata": {},
   "source": [
    "## Retraining the models with best parameters\n"
   ]
  },
  {
   "cell_type": "code",
   "id": "524dc8169de8d0de",
   "metadata": {
    "ExecuteTime": {
     "end_time": "2025-08-27T13:21:36.126927Z",
     "start_time": "2025-08-27T13:21:36.122928Z"
    }
   },
   "source": [
    "from sklearn.ensemble import RandomForestRegressor\n",
    "from sklearn.neighbors import KNeighborsRegressor"
   ],
   "outputs": [],
   "execution_count": 29
  },
  {
   "cell_type": "code",
   "id": "7f422aa859f13e37",
   "metadata": {
    "ExecuteTime": {
     "end_time": "2025-08-27T13:21:47.163819Z",
     "start_time": "2025-08-27T13:21:36.140441Z"
    }
   },
   "source": [
    "models = {\n",
    "\"Random Forest Regressor\": RandomForestRegressor(\n",
    "    n_estimators=100,\n",
    "    min_samples_split=2,\n",
    "    max_features='sqrt',   # change made here\n",
    "    max_depth=None,\n",
    "    n_jobs=-1\n",
    "),\n",
    "\n",
    "     \"XgBoost\":XGBRFRegressor(n_estimator= 100, max_depth= 30, learning_rate= 0.1, colsample_bytree= 1)\n",
    "\n",
    "}\n",
    "for i in range(len(list(models))):\n",
    "    model = list(models.values())[i]\n",
    "    model.fit(X_train, y_train) # Train model\n",
    "\n",
    "    # Make predictions\n",
    "    y_train_pred = model.predict(X_train)\n",
    "    y_test_pred = model.predict(X_test)\n",
    "\n",
    "    model_train_mae , model_train_rmse, model_train_r2 = evaluate_model(y_train, y_train_pred)\n",
    "\n",
    "    model_test_mae , model_test_rmse, model_test_r2 = evaluate_model(y_test, y_test_pred)\n",
    "\n",
    "    print(list(models.keys())[i])\n",
    "\n",
    "    print('Model performance for Training set')\n",
    "    print(\"- Root Mean Squared Error: {:.4f}\".format(model_train_rmse))\n",
    "    print(\"- Mean Absolute Error: {:.4f}\".format(model_train_mae))\n",
    "    print(\"- R2 Score: {:.4f}\".format(model_train_r2))\n",
    "\n",
    "    print('----------------------------------')\n",
    "\n",
    "    print('Model performance for Test set')\n",
    "    print(\"- Root Mean Squared Error: {:.4f}\".format(model_test_rmse))\n",
    "    print(\"- Mean Absolute Error: {:.4f}\".format(model_test_mae))\n",
    "    print(\"- R2 Score: {:.4f}\".format(model_test_r2))\n",
    "\n",
    "    print('='*35)\n",
    "    print('\\n')"
   ],
   "outputs": [
    {
     "name": "stdout",
     "output_type": "stream",
     "text": [
      "Random Forest Regressor\n",
      "Model performance for Training set\n",
      "- Root Mean Squared Error: 132940.8682\n",
      "- Mean Absolute Error: 39508.5810\n",
      "- R2 Score: 0.9782\n",
      "----------------------------------\n",
      "Model performance for Test set\n",
      "- Root Mean Squared Error: 203648.7591\n",
      "- Mean Absolute Error: 98328.7066\n",
      "- R2 Score: 0.9449\n",
      "===================================\n",
      "\n",
      "\n",
      "XgBoost\n",
      "Model performance for Training set\n",
      "- Root Mean Squared Error: 814036.4466\n",
      "- Mean Absolute Error: 402885.9688\n",
      "- R2 Score: 0.1830\n",
      "----------------------------------\n",
      "Model performance for Test set\n",
      "- Root Mean Squared Error: 779367.1837\n",
      "- Mean Absolute Error: 422943.3750\n",
      "- R2 Score: 0.1931\n",
      "===================================\n",
      "\n",
      "\n"
     ]
    }
   ],
   "execution_count": 30
  },
  {
   "cell_type": "code",
   "id": "4f17645966faa8a6",
   "metadata": {
    "ExecuteTime": {
     "end_time": "2025-08-27T13:21:47.196687Z",
     "start_time": "2025-08-27T13:21:47.194852Z"
    }
   },
   "source": [],
   "outputs": [],
   "execution_count": null
  },
  {
   "cell_type": "markdown",
   "id": "aba12bfd",
   "metadata": {},
   "source": [
    "#  Complete XGBoost Pipeline + Predict-by-Conditions Helper\n",
    "This section adds a production-ready pipeline for **Used Car Price Prediction** using **XGBoostRegressor** with preprocessing, training, evaluation, and a helper to **predict price from a Python dictionary of conditions**.\n",
    "\n",
    "\"\n",
    "\"**Files created:**\n",
    "\"\n",
    "\"- `artifacts/xgb_car_price.joblib` — trained pipeline (preprocessor + model)\n",
    "\"\n",
    "\"- `predict_price.py` — lightweight loader + `predict_price(conditions)` function\n",
    "\n",
    "\"\n",
    "\"**Expected dataset path:** `./data/cardekho_imputated.csv` (same as used earlier in the notebook)."
   ]
  },
  {
   "metadata": {
    "ExecuteTime": {
     "end_time": "2025-08-27T13:50:11.952061Z",
     "start_time": "2025-08-27T13:50:10.381398Z"
    }
   },
   "cell_type": "code",
   "source": [
    "import os\n",
    "import warnings\n",
    "warnings.filterwarnings(\"ignore\")\n",
    "\n",
    "import pandas as pd\n",
    "import numpy as np\n",
    "\n",
    "from sklearn.model_selection import train_test_split\n",
    "from sklearn.compose import ColumnTransformer\n",
    "from sklearn.preprocessing import OneHotEncoder, StandardScaler\n",
    "from sklearn.pipeline import Pipeline\n",
    "from sklearn.metrics import mean_squared_error, mean_absolute_error, r2_score\n",
    "\n",
    "try:\n",
    "    from xgboost import XGBRegressor\n",
    "except ImportError as e:\n",
    "    raise ImportError(\"xgboost is not installed. Please install it with `pip install xgboost`\") from e\n",
    "\n",
    "import joblib\n",
    "\n",
    "\n",
    "DATA_PATH = \"../data/cardekho_imputated.csv\"\n",
    "if not os.path.exists(DATA_PATH):\n",
    "    raise FileNotFoundError(f\"Dataset not found at {DATA_PATH}. Please place the CSV there.\")\n",
    "\n",
    "df = pd.read_csv(DATA_PATH, index_col=0)\n",
    "\n",
    "for col in [\"car_name\", \"brand\"]:\n",
    "    if col in df.columns:\n",
    "        df.drop(col, axis=1, inplace=True)\n",
    "\n",
    "def to_number(series):\n",
    "    return pd.to_numeric(series.astype(str).str.extract(r'([-+]?\\d*\\.?\\d+)')[0], errors=\"coerce\")\n",
    "\n",
    "for col in [\"mileage\", \"engine\", \"max_power\"]:\n",
    "    if col in df.columns:\n",
    "        df[col] = to_number(df[col])\n",
    "\n",
    "rename_map = {\"fuel\": \"fuel_type\", \"transmission\": \"transmission_type\", \"name\": \"model\"}\n",
    "df.rename(columns={k: v for k, v in rename_map.items() if k in df.columns}, inplace=True)\n",
    "\n",
    "\n",
    "target_col = \"selling_price\"\n",
    "if target_col not in df.columns:\n",
    "    raise KeyError(f\"Target column `{target_col}` not found. Found: {list(df.columns)}\")\n",
    "\n",
    "X = df.drop(columns=[target_col])\n",
    "y = df[target_col].astype(float)\n",
    "\n",
    "for drop_col in [\"car_id\", \"id\"]:\n",
    "    if drop_col in X.columns:\n",
    "        X.drop(columns=[drop_col], inplace=True)\n",
    "\n",
    "\n",
    "cat_cols = X.select_dtypes(include=[\"object\"]).columns.tolist()\n",
    "num_cols = X.select_dtypes(exclude=[\"object\"]).columns.tolist()\n",
    "\n",
    "if len(num_cols) == 0:\n",
    "    for c in list(X.columns):\n",
    "        coerced = pd.to_numeric(X[c], errors=\"coerce\")\n",
    "        if coerced.notna().sum() > len(X)*0.9:\n",
    "            X[c] = coerced\n",
    "    cat_cols = X.select_dtypes(include=[\"object\"]).columns.tolist()\n",
    "    num_cols = X.select_dtypes(exclude=[\"object\"]).columns.tolist()\n",
    "\n",
    "\n",
    "from sklearn.impute import SimpleImputer\n",
    "\n",
    "numeric_transformer = Pipeline(steps=[\n",
    "    (\"imputer\", SimpleImputer(strategy=\"median\")),\n",
    "    (\"scaler\", StandardScaler())\n",
    "])\n",
    "\n",
    "categorical_transformer = Pipeline(steps=[\n",
    "    (\"imputer\", SimpleImputer(strategy=\"most_frequent\")),\n",
    "    (\"onehot\", OneHotEncoder(handle_unknown=\"ignore\"))\n",
    "])\n",
    "\n",
    "preprocessor = ColumnTransformer(\n",
    "    transformers=[\n",
    "        (\"num\", numeric_transformer, num_cols),\n",
    "        (\"cat\", categorical_transformer, cat_cols)\n",
    "    ],\n",
    "    remainder=\"drop\"\n",
    ")\n",
    "\n",
    "\n",
    "xgb = XGBRegressor(\n",
    "    n_estimators=800,\n",
    "    max_depth=8,\n",
    "    learning_rate=0.05,\n",
    "    subsample=0.8,\n",
    "    colsample_bytree=0.8,\n",
    "    reg_lambda=1.0,\n",
    "    random_state=42,\n",
    "    n_jobs=-1,\n",
    "    tree_method=\"hist\"\n",
    ")\n",
    "\n",
    "pipe = Pipeline(steps=[\n",
    "    (\"preprocessor\", preprocessor),\n",
    "    (\"model\", xgb)\n",
    "])\n",
    "\n",
    "\n",
    "X_train, X_test, y_train, y_test = train_test_split(\n",
    "    X, y, test_size=0.2, random_state=42\n",
    ")\n",
    "\n",
    "pipe.fit(X_train, y_train)\n",
    "\n",
    "def evaluate(model, X_tr, y_tr, X_te, y_te):\n",
    "    pred_tr = model.predict(X_tr)\n",
    "    pred_te = model.predict(X_te)\n",
    "    return {\n",
    "        \"rmse_train\": np.sqrt(mean_squared_error(y_tr, pred_tr)),\n",
    "        \"rmse_test\": np.sqrt(mean_squared_error(y_te, pred_te)),\n",
    "        \"mae_train\": mean_absolute_error(y_tr, pred_tr),\n",
    "        \"mae_test\": mean_absolute_error(y_te, pred_te),\n",
    "        \"r2_train\": r2_score(y_tr, pred_tr),\n",
    "        \"r2_test\": r2_score(y_te, pred_te)\n",
    "    }\n",
    "\n",
    "metrics = evaluate(pipe, X_train, y_train, X_test, y_test)\n",
    "print(\"\\nXGBRegressor performance:\")\n",
    "for k, v in metrics.items():\n",
    "    print(f\"{k}: {v:.4f}\")\n",
    "\n",
    "\n",
    "os.makedirs(\"../artifacts\", exist_ok=True)\n",
    "MODEL_PATH = \"../artifacts/xgb_car_price.joblib\"\n",
    "joblib.dump({\"pipeline\": pipe, \"feature_cols\": X.columns.tolist()}, MODEL_PATH)\n",
    "print(f\"\\nSaved trained pipeline to {MODEL_PATH}\")\n",
    "\n",
    "\n",
    "def predict_price(conditions: dict):\n",
    "    trained = joblib.load(MODEL_PATH)[\"pipeline\"]\n",
    "    template = pd.DataFrame(columns=X.columns)\n",
    "    row = pd.DataFrame([{col: np.nan for col in X.columns}])\n",
    "\n",
    "    if \"fuel\" in conditions and \"fuel_type\" not in conditions:\n",
    "        conditions[\"fuel_type\"] = conditions.pop(\"fuel\")\n",
    "    if \"transmission\" in conditions and \"transmission_type\" not in conditions:\n",
    "        conditions[\"transmission_type\"] = conditions.pop(\"transmission\")\n",
    "    if \"name\" in conditions and \"model\" not in conditions:\n",
    "        conditions[\"model\"] = conditions.pop(\"name\")\n",
    "\n",
    "    for k, v in conditions.items():\n",
    "        if k in row.columns:\n",
    "            row.at[0, k] = v\n",
    "\n",
    "    for col in [\"mileage\", \"engine\", \"max_power\", \"year\", \"km_driven\", \"seats\"]:\n",
    "        if col in row.columns and pd.notna(row.at[0, col]):\n",
    "            try:\n",
    "                row.at[0, col] = float(str(row.at[0, col]).split()[0])\n",
    "            except:\n",
    "                row.at[0, col] = np.nan\n",
    "\n",
    "    pred = trained.predict(row)[0]\n",
    "    return float(pred)\n",
    "\n",
    "\n",
    "demo = {\n",
    "    \"year\": 2017,\n",
    "    \"km_driven\": 45000,\n",
    "    \"fuel_type\": \"Petrol\",\n",
    "    \"seller_type\": \"Individual\",\n",
    "    \"transmission_type\": \"Manual\",\n",
    "    \"owner\": \"First Owner\",\n",
    "    \"mileage\": 19.7,\n",
    "    \"engine\": 1197,\n",
    "    \"max_power\": 83,\n",
    "    \"seats\": 5,\n",
    "    \"model\": \"Maruti Swift VXI\"\n",
    "}\n",
    "demo_price = predict_price(demo)\n",
    "print(f\"\\nDemo predicted price: {demo_price:.2f}\")\n"
   ],
   "id": "49b2c4a4337b9cc0",
   "outputs": [
    {
     "name": "stdout",
     "output_type": "stream",
     "text": [
      "\n",
      "XGBRegressor performance:\n",
      "rmse_train: 72224.4930\n",
      "rmse_test: 226750.7544\n",
      "mae_train: 53589.6124\n",
      "mae_test: 93680.2245\n",
      "r2_train: 0.9936\n",
      "r2_test: 0.9317\n",
      "\n",
      "Saved trained pipeline to ../artifacts/xgb_car_price.joblib\n",
      "\n",
      "Demo predicted price: 449910.00\n"
     ]
    }
   ],
   "execution_count": 37
  },
  {
   "metadata": {
    "ExecuteTime": {
     "end_time": "2025-08-27T13:42:58.735122Z",
     "start_time": "2025-08-27T13:42:58.729784Z"
    }
   },
   "cell_type": "code",
   "source": "print(df['selling_price'].median())\n",
   "id": "d43e9eab7a9d79e2",
   "outputs": [
    {
     "name": "stdout",
     "output_type": "stream",
     "text": [
      "556000.0\n"
     ]
    }
   ],
   "execution_count": 35
  },
  {
   "metadata": {},
   "cell_type": "code",
   "outputs": [],
   "execution_count": null,
   "source": "",
   "id": "eab6c6ed4309bf96"
  }
 ],
 "metadata": {
  "kernelspec": {
   "display_name": "Python 3 (ipykernel)",
   "language": "python",
   "name": "python3"
  },
  "language_info": {
   "codemirror_mode": {
    "name": "ipython",
    "version": 2
   },
   "file_extension": ".py",
   "mimetype": "text/x-python",
   "name": "python",
   "nbconvert_exporter": "python",
   "pygments_lexer": "ipython2",
   "version": "2.7.6"
  }
 },
 "nbformat": 4,
 "nbformat_minor": 5
}
